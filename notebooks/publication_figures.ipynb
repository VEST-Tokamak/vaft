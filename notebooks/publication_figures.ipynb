{
 "cells": [
  {
   "cell_type": "markdown",
   "metadata": {},
   "source": [
    "(Planned)"
   ]
  },
  {
   "cell_type": "markdown",
   "metadata": {},
   "source": [
    "**[Figure 3] (3.1) Pulse Length and Peak Plasma Current (ip) Distribution for Shots #38,000–45,000**\n",
    "\n",
    "An example plot showing the relationship between pulse length (operation time) and maximum plasma current from recent VEST operational shots. \n",
    "\n"
   ]
  },
  {
   "cell_type": "code",
   "execution_count": 1,
   "metadata": {},
   "outputs": [
    {
     "name": "stdout",
     "output_type": "stream",
     "text": [
      "Issues loading MdsShr, trying find_library\n"
     ]
    },
    {
     "name": "stderr",
     "output_type": "stream",
     "text": [
      "RuntimeWarning: invalid value encountered in cast (namelist.py@1114)\n",
      "UserWarning: No `MDSplus` support: ImportError('Could not find library: MdsShr') (omfit_mds.py@24)\n"
     ]
    },
    {
     "name": "stdout",
     "output_type": "stream",
     "text": [
      "Issues loading MdsShr, trying find_library\n"
     ]
    }
   ],
   "source": [
    "import vaft"
   ]
  },
  {
   "cell_type": "markdown",
   "metadata": {},
   "source": [
    "**[Figure 4] (3.2) Visualization Example of Toroidal Current Density $j_{\\mathrm{tor}}$ (2×3 layout)**\n",
    "\n",
    "This figure provides an analytical comparison by displaying six plots together: 1) plasma current ($I_p$) over time, 2) internal inductance ($l_i$) over time, 3) correlation between $I_p$ and $l_i$, 4) radial $j_\\phi$ profile, 5) $j_\\phi$ profile against normalized toroidal flux ($\\rho_N$), and 6) two-dimensional poloidal cross-sectional current density.\n",
    "\n"
   ]
  },
  {
   "cell_type": "code",
   "execution_count": 3,
   "metadata": {},
   "outputs": [
    {
     "ename": "AttributeError",
     "evalue": "module 'vaft.plot' has no attribute 'equilibrium_time_ip'",
     "output_type": "error",
     "traceback": [
      "\u001b[0;31m---------------------------------------------------------------------------\u001b[0m",
      "\u001b[0;31mAttributeError\u001b[0m                            Traceback (most recent call last)",
      "Cell \u001b[0;32mIn[3], line 5\u001b[0m\n\u001b[1;32m      1\u001b[0m \u001b[38;5;28;01mimport\u001b[39;00m \u001b[38;5;21;01mvaft\u001b[39;00m\n\u001b[1;32m      3\u001b[0m ods \u001b[38;5;241m=\u001b[39m vaft\u001b[38;5;241m.\u001b[39momas\u001b[38;5;241m.\u001b[39msample_ods()\n\u001b[0;32m----> 5\u001b[0m \u001b[43mvaft\u001b[49m\u001b[38;5;241;43m.\u001b[39;49m\u001b[43mplot\u001b[49m\u001b[38;5;241;43m.\u001b[39;49m\u001b[43mequilibrium_time_ip\u001b[49m(ods)\n",
      "\u001b[0;31mAttributeError\u001b[0m: module 'vaft.plot' has no attribute 'equilibrium_time_ip'"
     ]
    }
   ],
   "source": [
    "import vaft\n",
    "\n",
    "# ods = vaft.omas.sample_ods()\n",
    "\n",
    "# vaft.plot.equilibrium_time_ip(ods)\n",
    "# vaft.plot.equilibrium_time_li(ods)\n",
    "# vaft.plot.equilibrium_ip_li(ods)\n",
    "# vaft.plot.equilibrium_radial_j_tor(ods)\n",
    "# vaft.plot.equilibrium_jtor_rho_n(ods)\n",
    "# vaft.plot.equilibrium_poloidal_current_density(ods)\n"
   ]
  },
  {
   "cell_type": "markdown",
   "metadata": {},
   "source": [
    "**[Figure 5] (3.2) Comparison of Loop Voltage, Central Magnetic Field (B_v), and Plasma Current ($I_p$) Waveforms under PF Coil 9-10 Current Scan (2×2 layout)**\n",
    "\n",
    "This figure illustrates changes in central magnetic field (B_v) and plasma current (ip) under conditions where loop voltage remains constant while varying the current drive of the pf coils.\n",
    "\n"
   ]
  },
  {
   "cell_type": "code",
   "execution_count": null,
   "metadata": {},
   "outputs": [],
   "source": []
  },
  {
   "cell_type": "markdown",
   "metadata": {},
   "source": [
    "**[Figure 6] (3.3.2) VEST 2D Poloidal Cross-section**\n",
    "\n",
    "This image shows the 2D poloidal cross-sectional geometry extracted and projected from the 3D CAD model of the experimental device, clearly illustrating coil, vessel geometry, and the assumed filamentary plasma position. It also shows vacuum $\\psi_N$ poloidal distribution which shows ohmic null condition in breakdown timing. \n",
    "\n"
   ]
  },
  {
   "cell_type": "code",
   "execution_count": null,
   "metadata": {},
   "outputs": [],
   "source": []
  },
  {
   "cell_type": "markdown",
   "metadata": {},
   "source": [
    "**[Figure 7] (3.3.2) Effect of Electromagnetic Currents (Coil, Eddy, Plasma) on Magnetic Probe Signals (2×3 layout)**\n",
    "\n",
    "Visualization demonstrating how spatially distributed eddy and coil currents individually contribute to measured magnetic probe signals over time and space, highlighting the significant influence of eddy currents in spherical tokamaks.\n",
    "\n"
   ]
  },
  {
   "cell_type": "code",
   "execution_count": null,
   "metadata": {},
   "outputs": [],
   "source": []
  },
  {
   "cell_type": "markdown",
   "metadata": {},
   "source": [
    "**[Figure 8] (3.3.4) Equilibrium Comparison between EFIT and CHEASE Solutions**\n",
    "\n",
    "This figure compares numerical and physical differences when refining EFIT equilibrium solutions using the CHEASE code, focusing on the plasma boundary shape, 1D profiles, and Grad–Shafranov equation residuals.\n",
    "\n"
   ]
  },
  {
   "cell_type": "code",
   "execution_count": null,
   "metadata": {},
   "outputs": [],
   "source": []
  },
  {
   "cell_type": "markdown",
   "metadata": {},
   "source": [
    "**[Figure 9] (3.3.5) Linear MHD Stability Assessment using GPEC Package: ip Evolution, \\delta W and Tearing Index for n=1 Mode**\n",
    "\n",
    "An example tracking plasma current (ip) evolution along with energy stability parameter ($\\delta W$) and tearing mode index for a predominant toroidal mode (n=1). This figure enables interpretation of the stability limits of reconstructed equilibria.\n",
    "\n"
   ]
  },
  {
   "cell_type": "code",
   "execution_count": null,
   "metadata": {},
   "outputs": [],
   "source": []
  },
  {
   "cell_type": "markdown",
   "metadata": {},
   "source": [
    "**[Figure 10] (3.3.6) Profile Mapping and Fitting Process Combining Thomson Scattering and EFIT Results**\n",
    "\n",
    "This figure describes the process of mapping and fitting electron temperature and density data from Thomson Scattering diagnostics onto the EFIT equilibrium in the $\\psi_N$ coordinate system. This serves as a foundational step for kinetic simulation codes."
   ]
  }
 ],
 "metadata": {
  "kernelspec": {
   "display_name": "Python 3",
   "language": "python",
   "name": "python3"
  },
  "language_info": {
   "codemirror_mode": {
    "name": "ipython",
    "version": 3
   },
   "file_extension": ".py",
   "mimetype": "text/x-python",
   "name": "python",
   "nbconvert_exporter": "python",
   "pygments_lexer": "ipython3",
   "version": "3.10.12"
  }
 },
 "nbformat": 4,
 "nbformat_minor": 2
}
