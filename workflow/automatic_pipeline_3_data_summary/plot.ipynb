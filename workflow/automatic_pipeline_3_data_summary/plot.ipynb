{
 "cells": [
  {
   "cell_type": "markdown",
   "metadata": {},
   "source": [
    "### Operation Parameter "
   ]
  },
  {
   "cell_type": "markdown",
   "metadata": {},
   "source": [
    "### Histogram"
   ]
  },
  {
   "cell_type": "code",
   "execution_count": 2,
   "metadata": {},
   "outputs": [
    {
     "name": "stdout",
     "output_type": "stream",
     "text": [
      "Error loading data: [Errno 2] No such file or directory: 'chease_history.xlsx'\n"
     ]
    },
    {
     "name": "stderr",
     "output_type": "stream",
     "text": [
      "/tmp/ipykernel_3491601/538288403.py:8: MatplotlibDeprecationWarning: The seaborn styles shipped by Matplotlib are deprecated since 3.6, as they no longer correspond to the styles shipped by seaborn. However, they will remain available as 'seaborn-v0_8-<style>'. Alternatively, directly use the seaborn API instead.\n",
      "  plt.style.use('seaborn')\n"
     ]
    }
   ],
   "source": [
    "import pandas as pd\n",
    "import numpy as np\n",
    "import matplotlib.pyplot as plt\n",
    "import seaborn as sns\n",
    "from pathlib import Path\n",
    "\n",
    "# Set style for better visualization\n",
    "plt.style.use('seaborn')\n",
    "sns.set_palette('husl')\n",
    "\n",
    "def load_equilibrium_data(file_path='chease_history.xlsx'):\n",
    "    \"\"\"Load equilibrium data from Excel file.\n",
    "    \n",
    "    Args:\n",
    "        file_path (str): Path to the Excel file\n",
    "        \n",
    "    Returns:\n",
    "        pd.DataFrame: Loaded equilibrium data\n",
    "    \"\"\"\n",
    "    try:\n",
    "        df = pd.read_excel(file_path)\n",
    "        print(f\"Successfully loaded data from {file_path}\")\n",
    "        print(f\"\\nDataFrame Info:\")\n",
    "        print(f\"Shape: {df.shape}\")\n",
    "        print(f\"\\nColumns:\")\n",
    "        for col in df.columns:\n",
    "            print(f\"- {col}\")\n",
    "        return df\n",
    "    except Exception as e:\n",
    "        print(f\"Error loading data: {str(e)}\")\n",
    "        return None\n",
    "\n",
    "def plot_equilibrium_histograms(df):\n",
    "    \"\"\"Plot histograms for all numeric columns except 'shot' and 'time'.\n",
    "    \n",
    "    Args:\n",
    "        df (pd.DataFrame): Input DataFrame containing equilibrium data\n",
    "    \"\"\"\n",
    "    if df is None:\n",
    "        print(\"No data available for plotting\")\n",
    "        return\n",
    "    \n",
    "    # Get numeric columns excluding 'shot' and 'time'\n",
    "    numeric_cols = df.select_dtypes(include=[np.number]).columns\n",
    "    plot_cols = [col for col in numeric_cols if col not in ['shot', 'time']]\n",
    "    \n",
    "    if not plot_cols:\n",
    "        print(\"No numeric columns found for plotting\")\n",
    "        return\n",
    "    \n",
    "    # Calculate number of rows and columns for subplot layout\n",
    "    n_cols = 3\n",
    "    n_rows = (len(plot_cols) + n_cols - 1) // n_cols\n",
    "    \n",
    "    # Create figure and subplots\n",
    "    fig, axes = plt.subplots(n_rows, n_cols, figsize=(15, 5*n_rows))\n",
    "    axes = axes.flatten()\n",
    "    \n",
    "    # Plot histograms\n",
    "    for idx, col in enumerate(plot_cols):\n",
    "        sns.histplot(data=df, x=col, ax=axes[idx], kde=True)\n",
    "        axes[idx].set_title(f'{col} Distribution')\n",
    "        axes[idx].set_xlabel(col)\n",
    "        axes[idx].set_ylabel('Count')\n",
    "    \n",
    "    # Hide empty subplots\n",
    "    for idx in range(len(plot_cols), len(axes)):\n",
    "        axes[idx].set_visible(False)\n",
    "    \n",
    "    plt.tight_layout()\n",
    "    plt.show()\n",
    "\n",
    "def calculate_equilibrium_statistics(df):\n",
    "    \"\"\"Calculate and display statistics for all numeric columns except 'shot' and 'time'.\n",
    "    \n",
    "    Args:\n",
    "        df (pd.DataFrame): Input DataFrame containing equilibrium data\n",
    "    \"\"\"\n",
    "    if df is None:\n",
    "        print(\"No data available for statistics calculation\")\n",
    "        return\n",
    "    \n",
    "    # Get numeric columns excluding 'shot' and 'time'\n",
    "    numeric_cols = df.select_dtypes(include=[np.number]).columns\n",
    "    stat_cols = [col for col in numeric_cols if col not in ['shot', 'time']]\n",
    "    \n",
    "    if not stat_cols:\n",
    "        print(\"No numeric columns found for statistics calculation\")\n",
    "        return\n",
    "    \n",
    "    # Calculate statistics\n",
    "    stats = df[stat_cols].agg(['mean', 'std', 'min', 'max']).round(4)\n",
    "    \n",
    "    # Display statistics in a formatted table\n",
    "    print(\"\\nequilibrium Data Statistics:\")\n",
    "    print(\"-\" * 80)\n",
    "    print(f\"{'Column':<30} {'Mean':>12} {'Std Dev':>12} {'Min':>12} {'Max':>12}\")\n",
    "    print(\"-\" * 80)\n",
    "    \n",
    "    for col in stat_cols:\n",
    "        mean = stats.loc['mean', col]\n",
    "        std = stats.loc['std', col]\n",
    "        min_val = stats.loc['min', col]\n",
    "        max_val = stats.loc['max', col]\n",
    "        print(f\"{col:<30} {mean:>12.4f} {std:>12.4f} {min_val:>12.4f} {max_val:>12.4f}\")\n",
    "    \n",
    "    print(\"-\" * 80)\n",
    "\n",
    "if __name__ == \"__main__\":\n",
    "    # Load the data\n",
    "    equilibrium_df = load_equilibrium_data()\n",
    "    \n",
    "    if equilibrium_df is not None:\n",
    "        # Plot histograms\n",
    "        plot_equilibrium_histograms(equilibrium_df)\n",
    "        \n",
    "        # Calculate and display statistics\n",
    "        calculate_equilibrium_statistics(equilibrium_df) "
   ]
  },
  {
   "cell_type": "code",
   "execution_count": null,
   "metadata": {},
   "outputs": [],
   "source": []
  },
  {
   "cell_type": "code",
   "execution_count": null,
   "metadata": {},
   "outputs": [],
   "source": []
  },
  {
   "cell_type": "code",
   "execution_count": null,
   "metadata": {},
   "outputs": [],
   "source": []
  },
  {
   "cell_type": "markdown",
   "metadata": {},
   "source": [
    "### Operation Regime"
   ]
  },
  {
   "cell_type": "markdown",
   "metadata": {},
   "source": [
    "### Stability Limit"
   ]
  }
 ],
 "metadata": {
  "kernelspec": {
   "display_name": "vaft",
   "language": "python",
   "name": "python3"
  },
  "language_info": {
   "codemirror_mode": {
    "name": "ipython",
    "version": 3
   },
   "file_extension": ".py",
   "mimetype": "text/x-python",
   "name": "python",
   "nbconvert_exporter": "python",
   "pygments_lexer": "ipython3",
   "version": "3.10.16"
  }
 },
 "nbformat": 4,
 "nbformat_minor": 2
}
